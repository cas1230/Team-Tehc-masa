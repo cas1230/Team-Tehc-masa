{
 "cells": [
  {
   "cell_type": "markdown",
   "metadata": {},
   "source": [
    "# Import libraries\n"
   ]
  },
  {
   "cell_type": "code",
   "execution_count": 27,
   "metadata": {},
   "outputs": [],
   "source": [
    "import pandas as pd\n",
    "import numpy as np\n",
    "import seaborn as sns\n",
    "from matplotlib import pyplot as plt\n",
    "from IPython.display import display"
   ]
  },
  {
   "cell_type": "markdown",
   "metadata": {},
   "source": [
    "# Outlier analysis for age\n",
    "Here, boxplot and interquartile range is used to identify outliers in the `\"Age\"` variable. The displayed table for the interquartile range analysis is written into a new Excel file for better viewing."
   ]
  },
  {
   "cell_type": "code",
   "execution_count": null,
   "metadata": {},
   "outputs": [],
   "source": [
    "#Read excel file.\n",
    "df = pd.read_excel(\"C:\\\\Users\\\\notth\\\\Documents\\\\MASA Hackathon\\\\Documentation & Materials\\\\TravelDataset.xlsx\")\n",
    "df_cleaned= df.drop(df[(df[\"Net Sales\"] < 0) | (df[\"Duration\"] < 0)].index)\n",
    "\n",
    "#To observe outliers with boxplot\n",
    "column = df_cleaned[\"Age\"]\n",
    "sns.boxplot(y=column)\n",
    "plt.show()\n",
    "\n",
    "#To observe outliers with interquartile range\n",
    "#Write to excel for better viewing of full table\n",
    "tmp = pd.DataFrame()\n",
    "file_name = \"AgeData.xlsx\"\n",
    "first_quartile = np.percentile(df_cleaned[\"Age\"], 25, method=\"midpoint\")\n",
    "third_quartile = np.percentile(df_cleaned[\"Age\"], 75, method=\"midpoint\")\n",
    "iqr = third_quartile - first_quartile\n",
    "\n",
    "upper_bound = np.where(df_cleaned[\"Age\"] >= third_quartile + 1.5 * iqr)\n",
    "lower_bound = np.where(df_cleaned[\"Age\"] <= first_quartile - 1.5 * iqr)\n",
    "i = 0\n",
    "while i < len(upper_bound):\n",
    "    tmp = pd.concat([tmp, df_cleaned.iloc[upper_bound[i]]])\n",
    "    tmp = pd.concat([tmp, df_cleaned.iloc[lower_bound[i]]])\n",
    "    i += 1\n",
    "\n",
    "display(tmp)\n",
    "tmp.to_excel(file_name)"
   ]
  }
 ],
 "metadata": {
  "kernelspec": {
   "display_name": "Python 3.9.10 64-bit",
   "language": "python",
   "name": "python3"
  },
  "language_info": {
   "codemirror_mode": {
    "name": "ipython",
    "version": 3
   },
   "file_extension": ".py",
   "mimetype": "text/x-python",
   "name": "python",
   "nbconvert_exporter": "python",
   "pygments_lexer": "ipython3",
   "version": "3.9.10"
  },
  "orig_nbformat": 4,
  "vscode": {
   "interpreter": {
    "hash": "7d838d13ab43e23b328ffb06354afebe4d7e58bda29815f14625efb2f2dd91ef"
   }
  }
 },
 "nbformat": 4,
 "nbformat_minor": 2
}
